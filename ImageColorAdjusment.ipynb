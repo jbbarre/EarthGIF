{
 "cells": [
  {
   "cell_type": "markdown",
   "metadata": {},
   "source": [
    "https://docs.opencv.org/3.1.0/d5/daf/tutorial_py_histogram_equalization.html"
   ]
  },
  {
   "cell_type": "code",
   "execution_count": 31,
   "metadata": {},
   "outputs": [],
   "source": [
    "import cv2\n",
    "import numpy as np\n",
    "from matplotlib import pyplot as plt\n",
    "import os"
   ]
  },
  {
   "cell_type": "code",
   "execution_count": 32,
   "metadata": {},
   "outputs": [],
   "source": [
    "#glacier = \"jakobshavn\"\n",
    "#glacier =\"kronebreen\"\n",
    "#glacier =\"helheim\"\n",
    "#glacier = \"hagenbrae\"\n",
    "\n",
    "#glacier=\"79Ncrac\"\n",
    "glacier=\"ryder\"\n",
    "#glacier=\"ostenfeld\"\n",
    "#glacier=\"steensby\"\n",
    "#glacier=\"storstrommen\"\n",
    "#glacier=\"zachariae\"\n",
    "\n",
    "wd =os.getcwd()\n",
    "ImgPath_in = os.path.join(wd, glacier)\n",
    "files_in = [file for file in sorted(os.listdir(ImgPath_in)) if os.path.isfile(os.path.join(ImgPath_in, file)) and os.path.splitext(file)[1]=='.png']\n",
    "\n",
    "#for i in range(2014,2022):\n",
    "for i in files_in:\n",
    " \n",
    "    Infilename = os.path.join(wd,glacier,i)\n",
    "    Outfilename = os.path.join(wd,glacier,'adjust_'+os.path.splitext(i)[0]+'.png')\n",
    "\n",
    "\n",
    "    img = cv2.imread(Infilename,1)\n",
    "    # converting to LAB color space\n",
    "    lab= cv2.cvtColor(img, cv2.COLOR_BGR2LAB)\n",
    "    l_channel, a, b = cv2.split(lab)\n",
    "\n",
    "    # Applying CLAHE to L-channel\n",
    "    # feel free to try different values for the limit and grid size:\n",
    "    clahe = cv2.createCLAHE(clipLimit=2.0, tileGridSize=(8,8))\n",
    "    cl = clahe.apply(l_channel)\n",
    "\n",
    "    # merge the CLAHE enhanced L-channel with the a and b channel\n",
    "    limg = cv2.merge((cl,a,b))\n",
    "\n",
    "    # Converting image from LAB Color model to BGR color spcae\n",
    "    enhanced_img = cv2.cvtColor(limg, cv2.COLOR_LAB2BGR)\n",
    "\n",
    "    # Stacking the original image with the enhanced image\n",
    "    result = np.hstack((img, enhanced_img))\n",
    "\n",
    "    cv2.imwrite(Outfilename,enhanced_img)"
   ]
  }
 ],
 "metadata": {
  "kernelspec": {
   "display_name": "Python 3.9.13",
   "language": "python",
   "name": "python3"
  },
  "language_info": {
   "codemirror_mode": {
    "name": "ipython",
    "version": 3
   },
   "file_extension": ".py",
   "mimetype": "text/x-python",
   "name": "python",
   "nbconvert_exporter": "python",
   "pygments_lexer": "ipython3",
   "version": "3.9.13"
  },
  "orig_nbformat": 4,
  "vscode": {
   "interpreter": {
    "hash": "84758dd4c70cea966cea9e1f808efa3c64ae5c7c7fe759eb988da0902cf1d46f"
   }
  }
 },
 "nbformat": 4,
 "nbformat_minor": 2
}
