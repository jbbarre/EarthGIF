{
 "cells": [
  {
   "cell_type": "markdown",
   "metadata": {},
   "source": [
    "### Create a GIF of Landsat images \n",
    "\n",
    "inspired from https://stackstac.readthedocs.io/en/latest/examples/gif.html\n"
   ]
  },
  {
   "cell_type": "code",
   "execution_count": null,
   "metadata": {},
   "outputs": [],
   "source": [
    "from dask.distributed import LocalCluster,Client\n",
    "import dask.utils\n",
    "import pystac_client\n",
    "import stackstac\n",
    "import dask.array as da\n",
    "from geogif import gif, dgif\n",
    "import geopandas as gpd\n",
    "import planetary_computer as pc\n",
    "import hvplot\n",
    "\n",
    "\n",
    "from IPython.display import HTML, display\n",
    "import folium\n",
    "import folium.plugins\n",
    "from branca.element import Figure\n",
    "import shapely.geometry"
   ]
  },
  {
   "cell_type": "code",
   "execution_count": null,
   "metadata": {},
   "outputs": [],
   "source": [
    "# port forwarding : ssh -L 8000:localhost:8787 protect\n",
    "# ou\n",
    "# ssh -L 9998:129.88.193.194:22 ssh-ige\n",
    "# ssh -L 9999:localhost:8787 -N -p 9998 localhost\n",
    "# opne localhost:9999\n",
    "\n",
    "cluster = LocalCluster(n_workers=20,\n",
    "                       threads_per_worker=1,\n",
    "                       dashboard_address=8787,\n",
    "                       memory_limit='2GB')\n",
    "   \n",
    "#cluster = LocalCluster()   \n",
    "client = Client(cluster)\n",
    "\n",
    "display(client)"
   ]
  },
  {
   "cell_type": "code",
   "execution_count": null,
   "metadata": {},
   "outputs": [],
   "source": [
    "from dask.utils import ensure_dict, format_bytes\n",
    "    \n",
    "wk = client.scheduler_info()[\"workers\"]\n",
    "\n",
    "text=\"Workers= \" + str(len(wk))\n",
    "memory = [w[\"memory_limit\"] for w in wk.values()]\n",
    "cores = sum(w[\"nthreads\"] for w in wk.values())\n",
    "text += \", Cores=\" + str(cores)\n",
    "if all(memory):\n",
    "    text += \", Memory=\" + format_bytes(sum(memory))\n",
    "print(text)"
   ]
  },
  {
   "cell_type": "code",
   "execution_count": null,
   "metadata": {},
   "outputs": [],
   "source": [
    "def convert_bounds(bbox, invert_y=False):\n",
    "    \"\"\"\n",
    "    Helper method for changing bounding box representation to leaflet notation\n",
    "    ``(lon1, lat1, lon2, lat2) -> ((lat1, lon1), (lat2, lon2))``\n",
    "    \"\"\"\n",
    "    x1, y1, x2, y2 = bbox\n",
    "    if invert_y:\n",
    "        y1, y2 = y2, y1\n",
    "    return ((y1, x1), (y2, x2))"
   ]
  },
  {
   "cell_type": "code",
   "execution_count": null,
   "metadata": {},
   "outputs": [],
   "source": [
    "#petermann - or create one with https://geojson.io/#map=2/20.0/0.0 and follow https://aws.amazon.com/fr/blogs/apn/transforming-geospatial-data-to-cloud-native-frameworks-with-element-84-on-aws/\n",
    "\n",
    "#filename = \"geojson file path\"# read in AOI as a GeoDataFrame\n",
    "filename = \"petermann.geojson\"# read in AOI as a GeoDataFrame\n",
    "# read in AOI as a GeoDataFrame\n",
    "aoi = gpd.read_file(filename)\n",
    "\n",
    "fig = Figure(width=\"400px\", height=\"500px\")\n",
    "map1 = folium.Map()\n",
    "fig.add_child(map1)\n",
    "\n",
    "folium.GeoJson(\n",
    "    aoi['geometry'],\n",
    "    style_function=lambda x: dict(fill=False, weight=1, opacity=0.7, color=\"olive\"),\n",
    "    name=\"Query\",\n",
    ").add_to(map1)\n",
    "\n",
    "\n",
    "map1.fit_bounds(bounds=convert_bounds(aoi.unary_union.bounds))\n",
    "display(fig)"
   ]
  },
  {
   "cell_type": "markdown",
   "metadata": {},
   "source": [
    "With the pystac_client module’s Client class, Open the STAC API. "
   ]
  },
  {
   "cell_type": "code",
   "execution_count": null,
   "metadata": {},
   "outputs": [],
   "source": [
    "# see : https://github.com/microsoft/PlanetaryComputerExamples/blob/main/datasets/landsat-8-c2-l2/landsat-8-c2-l2-example.ipynb\n",
    "\n",
    "bbox =aoi.unary_union.bounds\n",
    "\n",
    "LandsatSTAC = pystac_client.Client.open('https://planetarycomputer.microsoft.com/api/stac/v1')\n",
    "\n",
    "#for collection in LandsatSTAC.get_collections():\n",
    "    #print(collection)\n",
    "\n",
    "search = (\n",
    "    LandsatSTAC\n",
    "    .search(\n",
    "        bbox=bbox,\n",
    "        query =  {\"eo:cloud_cover\":{\"lt\":15}},\n",
    "        datetime = \"2018-01-01/2018-06-30\", \n",
    "        collections = [\"landsat-8-c2-l2\"]\n",
    "               \n",
    "    )\n",
    ")"
   ]
  },
  {
   "cell_type": "code",
   "execution_count": null,
   "metadata": {},
   "outputs": [],
   "source": [
    "items = pc.sign(search)\n",
    "print(str(len(items))+ ' scenes found')"
   ]
  },
  {
   "cell_type": "markdown",
   "metadata": {},
   "source": [
    "Turn STAC items into xarray as a temporal stack, using stackstac.\n"
   ]
  },
  {
   "cell_type": "code",
   "execution_count": null,
   "metadata": {},
   "outputs": [],
   "source": [
    "stack = stackstac.stack(items, chunksize=(6, 19, 405, 424),bounds_latlon=bbox, epsg = 32620, resolution=200)\n",
    "stack"
   ]
  },
  {
   "cell_type": "code",
   "execution_count": null,
   "metadata": {},
   "outputs": [],
   "source": [
    "# use common_name for bands\n",
    "stack = stack.assign_coords(band=stack.common_name.fillna(stack.band).rename(\"band\"))\n",
    "stack.band"
   ]
  },
  {
   "cell_type": "code",
   "execution_count": null,
   "metadata": {},
   "outputs": [],
   "source": [
    "#See how much input data there is for just RGB. This is the amount of data we’ll end up processing\n",
    "stack.sel(band=[\"red\", \"green\", \"blue\"])"
   ]
  },
  {
   "cell_type": "code",
   "execution_count": null,
   "metadata": {},
   "outputs": [],
   "source": [
    "# Make a bitmask---when we bitwise-and it with the data, it leaves just the 4 bits we care about\n",
    "mask_bitfields = [1, 2, 3, 4]  # dilated cloud, cirrus, cloud, cloud shadow\n",
    "bitmask = 0\n",
    "for field in mask_bitfields:\n",
    "    bitmask |= 1 << field\n",
    "\n",
    "bin(bitmask)"
   ]
  },
  {
   "cell_type": "code",
   "execution_count": null,
   "metadata": {},
   "outputs": [],
   "source": [
    "qa = stack.sel(band=\"QA_PIXEL\").astype(\"uint16\")\n",
    "bad = qa & bitmask  # just look at those 4 bits\n",
    "\n",
    "good = stack.where(bad == 0)  # mask pixels where any one of those bits are set"
   ]
  },
  {
   "cell_type": "code",
   "execution_count": null,
   "metadata": {},
   "outputs": [],
   "source": [
    "# What's the typical interval between scenes?\n",
    "#good.time.diff(\"time\").dt.days.plot.hist();"
   ]
  },
  {
   "cell_type": "code",
   "execution_count": null,
   "metadata": {},
   "outputs": [],
   "source": [
    "# keep rgb bands + Make annual median composites (`Q` means 2 quarters)\n",
    "composites = good.sel(band=[\"red\", \"green\", \"blue\"]).resample(time=\"M\").median(\"time\")\n",
    "composites#.chunk(chunks=(2,3,405,424))\n"
   ]
  },
  {
   "cell_type": "code",
   "execution_count": null,
   "metadata": {},
   "outputs": [],
   "source": [
    "%%time\n",
    "singleimage= composites.sel(time='2018-04-30T00:00:00.000000000').compute()"
   ]
  },
  {
   "cell_type": "code",
   "execution_count": null,
   "metadata": {},
   "outputs": [],
   "source": [
    "singleimage.plot.imshow(rgb=\"band\", robust=True)"
   ]
  },
  {
   "cell_type": "code",
   "execution_count": null,
   "metadata": {},
   "outputs": [],
   "source": [
    "cleaned = composites.ffill(\"time\")\n",
    "cleaned.chunk((1,3,405,424))"
   ]
  },
  {
   "cell_type": "code",
   "execution_count": null,
   "metadata": {},
   "outputs": [],
   "source": [
    "ts = cleaned.persist()\n",
    "ts_local = ts.compute()\n"
   ]
  },
  {
   "cell_type": "code",
   "execution_count": null,
   "metadata": {},
   "outputs": [],
   "source": [
    "ts_local.plot.imshow(col=\"time\", rgb=\"band\", col_wrap=5, robust=True)"
   ]
  },
  {
   "cell_type": "code",
   "execution_count": null,
   "metadata": {},
   "outputs": [],
   "source": [
    "%time\n",
    "#gif_img = dgif(rgb).compute()"
   ]
  },
  {
   "cell_type": "code",
   "execution_count": null,
   "metadata": {},
   "outputs": [],
   "source": [
    "gif_data = dgif(ts,fps=8, bytes=True).compute()\n",
    "with open(\"petermann_planetary_2016_2021.gif\", \"wb\") as f:\n",
    "        f.write(gif_data)\n"
   ]
  },
  {
   "cell_type": "code",
   "execution_count": null,
   "metadata": {},
   "outputs": [],
   "source": []
  }
 ],
 "metadata": {
  "kernelspec": {
   "display_name": "Python 3.10.6",
   "language": "python",
   "name": "python3"
  },
  "language_info": {
   "codemirror_mode": {
    "name": "ipython",
    "version": 3
   },
   "file_extension": ".py",
   "mimetype": "text/x-python",
   "name": "python",
   "nbconvert_exporter": "python",
   "pygments_lexer": "ipython3",
   "version": "3.9.13"
  },
  "orig_nbformat": 4,
  "vscode": {
   "interpreter": {
    "hash": "84758dd4c70cea966cea9e1f808efa3c64ae5c7c7fe759eb988da0902cf1d46f"
   }
  }
 },
 "nbformat": 4,
 "nbformat_minor": 2
}
