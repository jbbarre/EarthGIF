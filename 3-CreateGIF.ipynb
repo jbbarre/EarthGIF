{
 "cells": [
  {
   "cell_type": "code",
   "execution_count": 6,
   "metadata": {},
   "outputs": [],
   "source": [
    "from PIL import Image, ImageDraw\n",
    "import matplotlib.pyplot as plt\n",
    "import numpy as np\n",
    "import glob\n",
    "import os\n",
    "\n",
    "wd =os.getcwd()\n",
    "#glacier = \"petermann\"\n",
    "#glacier = \"jakobshavn\"\n",
    "#glacier =\"kronebreen\"\n",
    "#glacier =\"helheim\"\n",
    "#glacier = \"hagenbrae\"\n",
    "\n",
    "#glacier=\"79Ncrac\"\n",
    "#glacier=\"ryder\"\n",
    "#glacier=\"ostenfeld\"\n",
    "#glacier=\"steensby\"\n",
    "#glacier=\"storstrommen\"\n",
    "#glacier=\"zachariae\"\n",
    "#glacier=\"upernavik\"\n",
    "glacier=\"upernavik_s\"\n",
    "\n",
    "#create output directory\n",
    "os.makedirs(os.path.join(wd, glacier,'withlogo'), exist_ok = True)"
   ]
  },
  {
   "cell_type": "code",
   "execution_count": 7,
   "metadata": {},
   "outputs": [
    {
     "name": "stdout",
     "output_type": "stream",
     "text": [
      "1693\n",
      "Logo resize to:66,67\n"
     ]
    }
   ],
   "source": [
    "logo_file = 'logoIGE.png'\n",
    "logoIm = Image.open(logo_file)\n",
    "logoWidth, logoHeight = logoIm.size\n",
    "\n",
    "wd =os.getcwd()\n",
    "ImgPath_in = os.path.join(wd, glacier)\n",
    "files_in = [file for file in os.listdir(ImgPath_in) if os.path.isfile(os.path.join(ImgPath_in, file)) and os.path.splitext(file)[1]=='.png']\n",
    "\n",
    "im = Image.open(os.path.join(wd, glacier,files_in[0]))\n",
    "width, height = im.size\n",
    "print(width)\n",
    "\n",
    "scaleRatio= min(width*0.07/logoWidth,height*0.07/logoHeight)\n",
    "logoWidth_resize = int(logoWidth*scaleRatio)\n",
    "logoHeight_resize = int(logoHeight*scaleRatio)\n",
    "logoIm = logoIm.resize((logoWidth_resize, logoHeight_resize))\n",
    "\n",
    "print('Logo resize to:'+ str(logoWidth_resize)+','+str(logoHeight_resize))\n",
    "\n",
    "borderLogo = int(logoWidth_resize/2)\n",
    "\n",
    "for filename in os.listdir('./'+ glacier):\n",
    "    if not (filename.endswith('.png') ) or filename == logo_file:\n",
    "        continue\n",
    "    im = Image.open(os.path.join(wd, glacier,filename))\n",
    "    \n",
    "    im.paste(logoIm, (width - logoWidth_resize-borderLogo, borderLogo),logoIm)\n",
    "    im.save(os.path.join(wd, glacier,'withlogo', filename))"
   ]
  },
  {
   "cell_type": "markdown",
   "metadata": {},
   "source": [
    "### Create the GIF File"
   ]
  },
  {
   "cell_type": "markdown",
   "metadata": {},
   "source": [
    "Using Pillow, we obtain a GIf with the native resolution of images, but it changes the color of the logo. For GIF Format, PIL encodes the color in 8 bits and unfortunately the IGE logo colors are not well defined in 8 bits. Using .convert('RGB') alters the colors of the images."
   ]
  },
  {
   "cell_type": "code",
   "execution_count": 8,
   "metadata": {},
   "outputs": [],
   "source": [
    "# https://pillow.readthedocs.io/en/stable/handbook/image-file-formats.html#gif\n",
    "\n",
    "ImgPath_in = os.path.join(wd, glacier,'withlogo')\n",
    "files_in = [file for file in sorted(os.listdir(ImgPath_in)) if os.path.isfile(os.path.join(ImgPath_in, file))and os.path.splitext(file)[1]=='.png']\n",
    "fp_out = \"./\"+glacier+\"/\"+glacier+\"_2017_2021.gif\"\n",
    "\n",
    "img, *imgs = [Image.open(os.path.join(wd, glacier,'withlogo',f)) for f in files_in]\n",
    "\n",
    "#imgsRGB=[image.convert('P') for image in imgs]\n",
    "\n",
    "img.save(fp=fp_out, format='GIF', append_images=imgs,\n",
    "         save_all=True, duration=700, loop=0)"
   ]
  },
  {
   "cell_type": "markdown",
   "metadata": {},
   "source": [
    "### create the GIF using FFMPEG:\n",
    " - create a 10MB file by reducing the resolution a little: `ffmpeg  -framerate 3 -i petermann%*.png -loop 0 petermann_2014_2021.gif`\n"
   ]
  },
  {
   "cell_type": "markdown",
   "metadata": {},
   "source": [
    "`ffmpeg -i petermann%*.png -vf palettegen palette.png`\n",
    "`ffmpeg -v warning -i petermann%*.png -i palette.png  -lavfi \"paletteuse,setpts=6*PTS\" -y petermann_2014_2021.gif`"
   ]
  }
 ],
 "metadata": {
  "kernelspec": {
   "display_name": "Python 3.9.13",
   "language": "python",
   "name": "python3"
  },
  "language_info": {
   "codemirror_mode": {
    "name": "ipython",
    "version": 3
   },
   "file_extension": ".py",
   "mimetype": "text/x-python",
   "name": "python",
   "nbconvert_exporter": "python",
   "pygments_lexer": "ipython3",
   "version": "3.9.13"
  },
  "orig_nbformat": 4,
  "vscode": {
   "interpreter": {
    "hash": "84758dd4c70cea966cea9e1f808efa3c64ae5c7c7fe759eb988da0902cf1d46f"
   }
  }
 },
 "nbformat": 4,
 "nbformat_minor": 2
}
